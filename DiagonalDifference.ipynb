{
  "nbformat": 4,
  "nbformat_minor": 0,
  "metadata": {
    "colab": {
      "provenance": []
    },
    "kernelspec": {
      "name": "python3",
      "display_name": "Python 3"
    },
    "language_info": {
      "name": "python"
    }
  },
  "cells": [
    {
      "cell_type": "code",
      "execution_count": null,
      "metadata": {
        "id": "K_f8qy9tO0FR",
        "outputId": "74ddeb8c-d9fe-4b74-86fe-d22c31fe5867",
        "colab": {
          "base_uri": "https://localhost:8080/"
        }
      },
      "outputs": [
        {
          "output_type": "stream",
          "name": "stdout",
          "text": [
            "Diagonal Difference: 6\n"
          ]
        }
      ],
      "source": [
        "def diagonal_diff(m):\n",
        "    n = len(m)\n",
        "    primary_diag_sum = 0\n",
        "    secondary_diag_sum = 0\n",
        "\n",
        "    for i in range(n):\n",
        "        primary_diag_sum += m[i][i]\n",
        "        secondary_diag_sum += m[i][n - i - 1]\n",
        "    return abs(primary_diag_sum - secondary_diag_sum)\n",
        "\n",
        "matrix = [\n",
        "    [12, 3, 15],\n",
        "    [4, 7, 8],\n",
        "    [5, 6, 2]\n",
        "]\n",
        "\n",
        "result = diagonal_diff(matrix)\n",
        "print(\"Diagonal Difference:\", result)"
      ]
    }
  ]
}