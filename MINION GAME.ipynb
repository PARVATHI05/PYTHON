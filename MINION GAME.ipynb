{
  "cells": [
    {
      "cell_type": "code",
      "execution_count": null,
      "metadata": {
        "colab": {
          "base_uri": "https://localhost:8080/"
        },
        "id": "ly0zSyr8rQ-u",
        "outputId": "2d356a3e-f158-47ca-b2e8-2cb1df7cab0c"
      },
      "outputs": [
        {
          "output_type": "stream",
          "name": "stdout",
          "text": [
            "Stuart 24\n"
          ]
        }
      ],
      "source": [
        "def minion_game(str):\n",
        "    str = str.upper()\n",
        "    stuart_score = 0\n",
        "    kevin_score = 0\n",
        "    for i in range(len(str)):\n",
        "        if string[i] in 'AEIOU':\n",
        "            kevin_score += len(str) - i\n",
        "        else:\n",
        "            stuart_score += len(str) - i\n",
        "\n",
        "    if stuart_score > kevin_score:\n",
        "        print(\"Stuart\", stuart_score)\n",
        "    elif kevin_score > stuart_score:\n",
        "        print(\"Kevin\", kevin_score)\n",
        "    else:\n",
        "        print(\"Draw\")\n",
        "\n",
        "\n",
        "s = 'parvathi'\n",
        "minion_game(s)"
      ]
    },
    {
      "cell_type": "code",
      "execution_count": null,
      "metadata": {
        "colab": {
          "base_uri": "https://localhost:8080/"
        },
        "id": "jdNOFVAk4PaQ",
        "outputId": "7de15e78-6c35-4466-cdd1-de8b2e43cdac"
      },
      "outputs": [
        {
          "output_type": "stream",
          "name": "stdout",
          "text": [
            "Stuart scored 2\n",
            "Kevin scored 8\n",
            "Kevin 8\n"
          ]
        }
      ],
      "source": [
        "def minion_game(string):\n",
        "    string = string.upper()\n",
        "    #vstr=\"\"\n",
        "    #cstr=\"\"\n",
        "    stuart_score = 0\n",
        "    kevin_score = 0\n",
        "    for i in range(len(string)):\n",
        "        if string[i] in 'AEIOU':\n",
        "          for a in range(i,len(string)):\n",
        "            kevin_score+=1\n",
        "        else:\n",
        "          for b in range(i,len(string)):\n",
        "            stuart_score+=1\n",
        "    print(\"Stuart scored\",stuart_score)\n",
        "    print(\"Kevin scored\",kevin_score)\n",
        "\n",
        "    if stuart_score > kevin_score:\n",
        "        print(\"Stuart\", stuart_score)\n",
        "    elif kevin_score > stuart_score:\n",
        "        print(\"Kevin\", kevin_score)\n",
        "    else:\n",
        "        print(\"Draw\")\n",
        "\n",
        "str=\"aina\"\n",
        "minion_game(str)"
      ]
    },
    {
      "cell_type": "code",
      "source": [],
      "metadata": {
        "id": "rfIKPSiPixR4"
      },
      "execution_count": null,
      "outputs": []
    }
  ],
  "metadata": {
    "colab": {
      "provenance": []
    },
    "kernelspec": {
      "display_name": "Python 3",
      "name": "python3"
    },
    "language_info": {
      "name": "python"
    }
  },
  "nbformat": 4,
  "nbformat_minor": 0
}